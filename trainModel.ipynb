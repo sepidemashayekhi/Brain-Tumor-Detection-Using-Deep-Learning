{
  "nbformat": 4,
  "nbformat_minor": 0,
  "metadata": {
    "colab": {
      "name": "Untitled47.ipynb",
      "provenance": []
    },
    "kernelspec": {
      "name": "python3",
      "display_name": "Python 3"
    },
    "language_info": {
      "name": "python"
    },
    "accelerator": "GPU"
  },
  "cells": [
    {
      "cell_type": "code",
      "execution_count": 11,
      "metadata": {
        "id": "5j0VuCwkHsIl"
      },
      "outputs": [],
      "source": [
        "from keras.layers import Dense,MaxPooling2D,Conv2D,Flatten,BatchNormalization,Input,Dropout\n",
        "from keras.models import Model\n",
        "from keras.preprocessing.image import ImageDataGenerator\n",
        "from keras.optimizer_v1 import adam\n",
        "from sklearn.model_selection import train_test_split\n",
        "from keras.callbacks import ModelCheckpoint\n",
        "from tensorflow.keras.utils import normalize\n",
        "import cv2\n",
        "import numpy as np \n",
        "import os \n"
      ]
    },
    {
      "cell_type": "code",
      "source": [
        "image_directory='/content/sample_data/data'\n",
        "noTumor_image_path=os.path.join(image_directory,'no')\n",
        "Tumor_image_path=os.path.join(image_directory,'yes')\n",
        "Nameimg_Tumor=os.listdir(Tumor_image_path)\n",
        "Nameimg_noTumor=os.listdir(noTumor_image_path)"
      ],
      "metadata": {
        "id": "zvuFrH2dJxmb"
      },
      "execution_count": 2,
      "outputs": []
    },
    {
      "cell_type": "code",
      "source": [
        "DatasetImg=[]\n",
        "label=[]\n",
        "for name in Nameimg_noTumor:\n",
        "    image=cv2.imread(noTumor_image_path+'/'+name)\n",
        "    image=cv2.resize(image,(200,200))\n",
        "    DatasetImg.append(image)\n",
        "    label.append(0)\n",
        "for name in Nameimg_Tumor:\n",
        "    image=cv2.imread(Tumor_image_path+'/'+name)\n",
        "    image=cv2.resize(image,(200,200))\n",
        "    DatasetImg.append(image)\n",
        "    label.append(1)\n",
        "DatasetImg=np.array(DatasetImg)\n",
        "label=np.array(label)"
      ],
      "metadata": {
        "id": "TEf9dtvZL8Q8"
      },
      "execution_count": 3,
      "outputs": []
    },
    {
      "cell_type": "code",
      "source": [
        "train_image,test_image,train_label,test_label=train_test_split(DatasetImg,label,test_size=0.2,random_state=0)"
      ],
      "metadata": {
        "id": "YA0iTSqXMGth"
      },
      "execution_count": 4,
      "outputs": []
    },
    {
      "cell_type": "code",
      "source": [
        "train_image=normalize(train_image,axis=1)\n",
        "test_image=normalize(test_image,axis=1)"
      ],
      "metadata": {
        "id": "zZ_-21UlMMRB"
      },
      "execution_count": 5,
      "outputs": []
    },
    {
      "cell_type": "code",
      "source": [
        "# creat model\n",
        "input=Input(shape=(200,200,3))\n",
        "layer=Conv2D(32,(3,3),activation='relu',kernel_initializer='he_uniform')(input)\n",
        "layer=MaxPooling2D((2,2))(layer)\n",
        "layer=Conv2D(64,(3,3),activation='relu',kernel_initializer='he_uniform')(layer)\n",
        "layer=MaxPooling2D((2,2))(layer)\n",
        "layer=Conv2D(128,(3,3),activation='relu',kernel_initializer='he_uniform')(layer)\n",
        "layer=MaxPooling2D((2,2))(layer)\n",
        "flatten=Flatten()(layer)\n",
        "dense=Dense(128,activation='relu')(flatten)\n",
        "dense=Dropout(0.2)(dense)\n",
        "output=Dense(1,activation='sigmoid')(dense)\n",
        "model=Model(input,output)\n",
        "\n",
        "model.compile(loss='binary_crossentropy',optimizer='adam',metrics=['acc'])"
      ],
      "metadata": {
        "id": "rIKbqRWHMVus"
      },
      "execution_count": 10,
      "outputs": []
    },
    {
      "cell_type": "code",
      "source": [
        "checkpoint=ModelCheckpoint('my_model.h5',monitor='val_loss',save_best_only=True)\n",
        "callbacklist=[checkpoint]"
      ],
      "metadata": {
        "id": "GWY-EDFUSYYR"
      },
      "execution_count": 12,
      "outputs": []
    },
    {
      "cell_type": "code",
      "source": [
        "histoty=model.fit(train_image,train_label,batch_size=30,epochs=20,validation_data=(test_image,test_label),\n",
        "                  callbacks=callbacklist)"
      ],
      "metadata": {
        "colab": {
          "base_uri": "https://localhost:8080/"
        },
        "id": "ZQw08tHRTuVG",
        "outputId": "213fca13-f907-4ba2-a4fc-04c3bd115079"
      },
      "execution_count": 13,
      "outputs": [
        {
          "output_type": "stream",
          "name": "stdout",
          "text": [
            "Epoch 1/20\n",
            "83/83 [==============================] - 20s 125ms/step - loss: 0.4728 - acc: 0.7974 - val_loss: 0.2759 - val_acc: 0.8817\n",
            "Epoch 2/20\n",
            "83/83 [==============================] - 9s 110ms/step - loss: 0.1733 - acc: 0.9331 - val_loss: 0.1647 - val_acc: 0.9400\n",
            "Epoch 3/20\n",
            "83/83 [==============================] - 9s 109ms/step - loss: 0.0798 - acc: 0.9733 - val_loss: 0.1360 - val_acc: 0.9643\n",
            "Epoch 4/20\n",
            "83/83 [==============================] - 9s 105ms/step - loss: 0.0336 - acc: 0.9911 - val_loss: 0.1635 - val_acc: 0.9530\n",
            "Epoch 5/20\n",
            "83/83 [==============================] - 9s 109ms/step - loss: 0.0222 - acc: 0.9911 - val_loss: 0.1265 - val_acc: 0.9643\n",
            "Epoch 6/20\n",
            "83/83 [==============================] - 9s 110ms/step - loss: 0.0088 - acc: 0.9992 - val_loss: 0.1061 - val_acc: 0.9724\n",
            "Epoch 7/20\n",
            "83/83 [==============================] - 9s 107ms/step - loss: 0.0039 - acc: 0.9992 - val_loss: 0.1502 - val_acc: 0.9692\n",
            "Epoch 8/20\n",
            "83/83 [==============================] - 9s 107ms/step - loss: 0.0168 - acc: 0.9955 - val_loss: 0.1499 - val_acc: 0.9757\n",
            "Epoch 9/20\n",
            "83/83 [==============================] - 9s 107ms/step - loss: 0.0139 - acc: 0.9935 - val_loss: 0.2119 - val_acc: 0.9627\n",
            "Epoch 10/20\n",
            "83/83 [==============================] - 9s 107ms/step - loss: 0.0133 - acc: 0.9959 - val_loss: 0.1434 - val_acc: 0.9757\n",
            "Epoch 11/20\n",
            "83/83 [==============================] - 9s 109ms/step - loss: 0.0412 - acc: 0.9870 - val_loss: 0.1224 - val_acc: 0.9692\n",
            "Epoch 12/20\n",
            "83/83 [==============================] - 9s 107ms/step - loss: 0.0073 - acc: 0.9984 - val_loss: 0.1378 - val_acc: 0.9757\n",
            "Epoch 13/20\n",
            "83/83 [==============================] - 9s 107ms/step - loss: 8.7710e-04 - acc: 1.0000 - val_loss: 0.1514 - val_acc: 0.9789\n",
            "Epoch 14/20\n",
            "83/83 [==============================] - 9s 106ms/step - loss: 0.0050 - acc: 0.9984 - val_loss: 0.1552 - val_acc: 0.9773\n",
            "Epoch 15/20\n",
            "83/83 [==============================] - 9s 107ms/step - loss: 0.0045 - acc: 0.9984 - val_loss: 0.1669 - val_acc: 0.9757\n",
            "Epoch 16/20\n",
            "83/83 [==============================] - 9s 107ms/step - loss: 4.8673e-04 - acc: 1.0000 - val_loss: 0.1838 - val_acc: 0.9757\n",
            "Epoch 17/20\n",
            "83/83 [==============================] - 9s 106ms/step - loss: 9.7269e-04 - acc: 1.0000 - val_loss: 0.1604 - val_acc: 0.9773\n",
            "Epoch 18/20\n",
            "83/83 [==============================] - 9s 106ms/step - loss: 4.2506e-04 - acc: 1.0000 - val_loss: 0.1911 - val_acc: 0.9741\n",
            "Epoch 19/20\n",
            "83/83 [==============================] - 9s 107ms/step - loss: 9.2249e-05 - acc: 1.0000 - val_loss: 0.1944 - val_acc: 0.9741\n",
            "Epoch 20/20\n",
            "83/83 [==============================] - 9s 106ms/step - loss: 7.7505e-05 - acc: 1.0000 - val_loss: 0.1797 - val_acc: 0.9789\n"
          ]
        }
      ]
    },
    {
      "cell_type": "code",
      "source": [
        "model.save('/content/sample_data/data.mymodel.h5')"
      ],
      "metadata": {
        "id": "QRUdWbbTU-g3"
      },
      "execution_count": 15,
      "outputs": []
    }
  ]
}